{
 "cells": [
  {
   "cell_type": "markdown",
   "metadata": {},
   "source": [
    "# huggingface"
   ]
  },
  {
   "cell_type": "code",
   "execution_count": 1,
   "metadata": {},
   "outputs": [
    {
     "name": "stdout",
     "output_type": "stream",
     "text": [
      "Testing..\n",
      "[0.003928809426724911, -0.007745366543531418, 0.03407980501651764]\n"
     ]
    }
   ],
   "source": [
    "from scripts_huggingface import huggingface_embed_local\n",
    "embedding_model = 'BAAI/bge-large-en-v1.5'\n",
    "embeddings = huggingface_embed_local(embedding_model)"
   ]
  },
  {
   "cell_type": "markdown",
   "metadata": {},
   "source": [
    "# AStraDB"
   ]
  },
  {
   "cell_type": "code",
   "execution_count": 2,
   "metadata": {},
   "outputs": [],
   "source": [
    "from scripts_astradb import astradb_start\n",
    "collection_name = \"project1\"\n",
    "vstore = astradb_start(embeddings, collection_name)"
   ]
  },
  {
   "cell_type": "markdown",
   "metadata": {},
   "source": [
    "## PDF add to astradb"
   ]
  },
  {
   "cell_type": "code",
   "execution_count": 9,
   "metadata": {},
   "outputs": [
    {
     "name": "stdout",
     "output_type": "stream",
     "text": [
      "Reading ./documents_train/project1.pdf\n"
     ]
    },
    {
     "name": "stderr",
     "output_type": "stream",
     "text": [
      "This function will be deprecated in a future release and `unstructured` will simply use the DEFAULT_MODEL from `unstructured_inference.model.base` to set default model name\n"
     ]
    },
    {
     "name": "stdout",
     "output_type": "stream",
     "text": [
      "Read Complete!\n",
      "Documents from PDF: 113.\n",
      "Inserted 113 out of 113 documents.\n",
      "Uploaded ./documents_train/project1.pdf\n"
     ]
    }
   ],
   "source": [
    "from scripts_astradb import astradb_add_pdf\n",
    "astradb_add_pdf(vstore)"
   ]
  },
  {
   "cell_type": "code",
   "execution_count": 4,
   "metadata": {},
   "outputs": [],
   "source": [
    "# texts = [\"I think, therefore I am.\", \"To the things themselves!\"]\n",
    "# metadatas = [{\"author\": \"descartes\"}, {\"author\": \"husserl\"}]\n",
    "# ids = [\"desc_01\", \"huss_xy\"]\n",
    "\n",
    "# inserted_ids_2 = vstore.add_texts(texts=texts, metadatas=metadatas, ids=ids)\n",
    "# print(f\"\\nInserted {len(inserted_ids_2)} documents.\")"
   ]
  },
  {
   "cell_type": "code",
   "execution_count": 5,
   "metadata": {},
   "outputs": [],
   "source": [
    "# results = vstore.similarity_search(\"Our life is what we make of it\", k=3)\n",
    "# for res in results:\n",
    "#     print(f\"* {res.page_content} [{res.metadata}]\")"
   ]
  },
  {
   "cell_type": "markdown",
   "metadata": {},
   "source": [
    "# HTML to astradb"
   ]
  },
  {
   "cell_type": "code",
   "execution_count": 6,
   "metadata": {},
   "outputs": [],
   "source": [
    "# from scripts_astradb import astradb_add_html\n",
    "# astradb_add_html(vstore)"
   ]
  }
 ],
 "metadata": {
  "kernelspec": {
   "display_name": "LLM_LangChain",
   "language": "python",
   "name": "python3"
  },
  "language_info": {
   "codemirror_mode": {
    "name": "ipython",
    "version": 3
   },
   "file_extension": ".py",
   "mimetype": "text/x-python",
   "name": "python",
   "nbconvert_exporter": "python",
   "pygments_lexer": "ipython3",
   "version": "3.10.13"
  }
 },
 "nbformat": 4,
 "nbformat_minor": 2
}
